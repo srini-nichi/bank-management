{
 "cells": [
  {
   "cell_type": "markdown",
   "id": "c17a1561-c892-4ce7-9a41-2d424de0b465",
   "metadata": {},
   "source": [
    "### Bank Management System Using Python"
   ]
  },
  {
   "cell_type": "code",
   "execution_count": null,
   "id": "3ef36560-afdd-40fb-807e-0b6ecc57e194",
   "metadata": {},
   "outputs": [
    {
     "name": "stdout",
     "output_type": "stream",
     "text": [
      "\t***WELCOME TO SRINI'S BANK***\t\n",
      "\n",
      "Menu:\n",
      "1. Create Account\n",
      "2. Deposit\n",
      "3. Withdraw\n",
      "4. Display Customers\n",
      "5. Exit\n"
     ]
    },
    {
     "name": "stdin",
     "output_type": "stream",
     "text": [
      "Enter your choice:  4\n"
     ]
    },
    {
     "name": "stdout",
     "output_type": "stream",
     "text": [
      "No customer details to display.\n",
      "\t***WELCOME TO SRINI'S BANK***\t\n",
      "\n",
      "Menu:\n",
      "1. Create Account\n",
      "2. Deposit\n",
      "3. Withdraw\n",
      "4. Display Customers\n",
      "5. Exit\n"
     ]
    },
    {
     "name": "stdin",
     "output_type": "stream",
     "text": [
      "Enter your choice:  1\n"
     ]
    },
    {
     "name": "stdout",
     "output_type": "stream",
     "text": [
      "Wow! Welcome! Before we open an account for you, we need some information about you.\n"
     ]
    },
    {
     "name": "stdin",
     "output_type": "stream",
     "text": [
      "Enter your First Name:  dd\n",
      "Enter your Age:  33\n",
      "Enter your Qualification:  ee\n"
     ]
    },
    {
     "name": "stdout",
     "output_type": "stream",
     "text": [
      "Please provide your Address details:\n"
     ]
    },
    {
     "name": "stdin",
     "output_type": "stream",
     "text": [
      "Door Number:  23\n",
      "Street:  f3\n",
      "City:  3\n",
      "State:  3\n",
      "Country:  3\n",
      "Pincode:  3\n",
      "Email:  3\n"
     ]
    },
    {
     "name": "stdout",
     "output_type": "stream",
     "text": [
      "Invalid email format.\n"
     ]
    },
    {
     "name": "stdin",
     "output_type": "stream",
     "text": [
      "Email:  3\n"
     ]
    },
    {
     "name": "stdout",
     "output_type": "stream",
     "text": [
      "Invalid email format.\n"
     ]
    },
    {
     "name": "stdin",
     "output_type": "stream",
     "text": [
      "Email:  3\n"
     ]
    },
    {
     "name": "stdout",
     "output_type": "stream",
     "text": [
      "Invalid email format.\n"
     ]
    },
    {
     "name": "stdin",
     "output_type": "stream",
     "text": [
      "Email:  3\n"
     ]
    },
    {
     "name": "stdout",
     "output_type": "stream",
     "text": [
      "Invalid email format.\n"
     ]
    },
    {
     "name": "stdin",
     "output_type": "stream",
     "text": [
      "Email:  ffds\n"
     ]
    },
    {
     "name": "stdout",
     "output_type": "stream",
     "text": [
      "Invalid email format.\n"
     ]
    },
    {
     "name": "stdin",
     "output_type": "stream",
     "text": [
      "Email:  fasf@fdgd.fgsf\n",
      "Mobile Number:  1234567890\n"
     ]
    },
    {
     "name": "stdout",
     "output_type": "stream",
     "text": [
      "\n",
      "Account Number: 753173\n",
      "\n",
      "Select Account Type:\n",
      "1. Savings\n",
      "2. Current\n"
     ]
    }
   ],
   "source": [
    "import random\n",
    "import re\n",
    "\n",
    "# Define Account class\n",
    "class Account:\n",
    "    def __init__(self, account_number, balance=500):#initail balanvace\n",
    "        self.account_number = account_number\n",
    "        self.balance = balance\n",
    "        \n",
    "    def deposit(self, amount):\n",
    "        if amount > 0:\n",
    "            self.balance += amount\n",
    "            print(f\"Deposit of ${amount} successful. Current balance: ${self.balance}\")\n",
    "        else:\n",
    "            print(\"Invalid deposit amount.\")\n",
    "\n",
    "    def withdraw(self, amount):\n",
    "        if 0 < amount < self.balance:\n",
    "            self.balance -= amount\n",
    "            print(f\"Withdrawal of ${amount} successful. Current balance: ${self.balance}\")\n",
    "        else:\n",
    "            print(\"Insufficient amount\")\n",
    "\n",
    "    def __str__(self):\n",
    "        return f\"Account Number: {self.account_number}, Balance: ${self.balance}\"\n",
    "            \n",
    "# Define Address class        \n",
    "class Address:\n",
    "    def __init__(self, door_no, street, city, state, country, pincode, email, mobile):\n",
    "        self.door_no = door_no\n",
    "        self.street = street\n",
    "        self.city = city\n",
    "        self.state = state\n",
    "        self.country = country\n",
    "        self.pincode = pincode\n",
    "        self.email = email\n",
    "        self.mobile = mobile\n",
    "\n",
    "    def __str__(self):\n",
    "        return f\"Address: {self.door_no}, {self.street}, {self.city}, {self.state}, {self.country}, {self.pincode}, {self.email}, {self.mobile}\"\n",
    "        \n",
    "# Define Customer class\n",
    "class Customer:\n",
    "    def __init__(self, firstname, age, qualification, address, account):\n",
    "        self.firstname = firstname\n",
    "        self.age = age\n",
    "        self.qualification = qualification\n",
    "        self.address = address\n",
    "        self.account = account\n",
    "    \n",
    "    def __str__(self):\n",
    "        return f\"Customer details:\\nFirstName: {self.firstname},\\nAge: {self.age},\\nQualification: {self.qualification}\"\n",
    "\n",
    "# Define Bank class\n",
    "class Bank:\n",
    "    def __init__(self):\n",
    "        self.customers = []\n",
    "\n",
    "    # Method to create a new account\n",
    "    def create_account(self):\n",
    "        print(\"Wow! Welcome! Before we open an account for you, we need some information about you.\")\n",
    "        \n",
    "        # Gather customer details\n",
    "    # try:\n",
    "        first_name = input(\"Enter your First Name: \")\n",
    "        age = int(input(\"Enter your Age: \"))\n",
    "        qualification = input(\"Enter your Qualification: \")\n",
    "        print(\"Please provide your Address details:\")\n",
    "        door_no = input(\"Door Number: \")\n",
    "        street = input(\"Street: \")\n",
    "        city = input(\"City: \")\n",
    "        state = input(\"State: \")\n",
    "        country = input(\"Country: \")\n",
    "        pincode = int(input(\"Pincode: \"))\n",
    "        email = input(\"Email: \")\n",
    "        \n",
    "        # Email validation using regex\n",
    "        while not re.match(r\"[^@]+@[^@]+\\.[^@]+\", email):  \n",
    "            print(\"Invalid email format.\")\n",
    "            email = input(\"Email: \")\n",
    "\n",
    "        mobile = input(\"Mobile Number: \")\n",
    "        # Mobile number validation\n",
    "        while not mobile.isdigit() or len(mobile) != 10: \n",
    "            print(\"Invalid mobile number.\")\n",
    "            mobile = input(\"Mobile Number: \")\n",
    "        mobile=int(mobile)\n",
    "        #  except ValueError:\n",
    "               \n",
    "        \n",
    "        # Create Address instance\n",
    "        address = Address(door_no, street, city, state, country, pincode, email, mobile)\n",
    "\n",
    "        # Generate a random account number\n",
    "        account_number = random.randint(100000, 999999)\n",
    "        print(\"\\nAccount Number:\", account_number)\n",
    "        print(\"\\nSelect Account Type:\")\n",
    "        print(\"1. Savings\")\n",
    "        print(\"2. Current\")\n",
    "        try:\n",
    "            account_type = int(input(\"Enter choice: \"))\n",
    "            if account_type == 1:\n",
    "                account = Account(account_number)\n",
    "            elif account_type == 2:\n",
    "                account = Account(account_number, balance=500)  # Initial balance for current account\n",
    "            else:\n",
    "                print(\"Invalid choice. Account creation failed.\")\n",
    "                return\n",
    "        except ValueError:\n",
    "            print(\"Enter the choice correctly for account type\")\n",
    "\n",
    "         # Create instance of customer\n",
    "        customer = Customer(first_name, age, qualification, address, account)\n",
    "        self.customers.append(customer)\n",
    "        print(\"Account created successfully.\")\n",
    "\n",
    "    # Method to deposit money into an account\n",
    "    def deposit(self, account_number, amount):\n",
    "        for customer in self.customers:\n",
    "            if customer.account.account_number == account_number:\n",
    "                try:\n",
    "                    amount=float(amount)\n",
    "                    customer.account.deposit(amount)\n",
    "                    return\n",
    "                except ValueError:\n",
    "                    print(\"Invalid amount. Please enter a valid numeric amount.\")\n",
    "                    return\n",
    "        print(\"Account not found.\")\n",
    "        \n",
    "    # Method to witdddraw money from an account\n",
    "    def withdraw(self, account_number, amount):\n",
    "        for customer in self.customers:\n",
    "            if customer.account.account_number == account_number:\n",
    "                try:\n",
    "                    amount = float(amount)\n",
    "                    customer.account.withdraw(amount)\n",
    "                    return\n",
    "                except ValueError:\n",
    "                    print(\"Invalid amount. Please enter a valid numeric amount.\")\n",
    "                    return\n",
    "        print(\"Account not found.\")\n",
    "\n",
    "    # Method to display all customers and their details\n",
    "    def display_customers(self):\n",
    "        if not self.customers:\n",
    "            print(\"No customer details to display.\")\n",
    "        else:\n",
    "            for customer in self.customers:\n",
    "                print(customer)\n",
    "\n",
    "# Create instance of Bank class\n",
    "bank = Bank()\n",
    "\n",
    "# Main menu loop\n",
    "while True:\n",
    "    print(\"\\t***WELCOME TO SRINI'S BANK***\\t\")\n",
    "    print(\"\\nMenu:\")\n",
    "    print(\"1. Create Account\")\n",
    "    print(\"2. Deposit\")\n",
    "    print(\"3. Withdraw\")\n",
    "    print(\"4. Display Customers\")\n",
    "    print(\"5. Exit\")\n",
    "    try:\n",
    "        choice = int(input(\"Enter your choice: \"))\n",
    "\n",
    "        if choice == 1:\n",
    "            bank.create_account()\n",
    "        elif choice == 2:\n",
    "            account_number = int(input(\"Enter account number: \"))\n",
    "            amount = float(input(\"Enter deposit amount: \"))\n",
    "            bank.deposit(account_number, amount)\n",
    "        elif choice == 3:\n",
    "            account_number = int(input(\"Enter account number: \"))\n",
    "            amount = float(input(\"Enter withdrawal amount: \"))\n",
    "            bank.withdraw(account_number, amount)\n",
    "        elif choice == 4:\n",
    "            bank.display_customers()\n",
    "        elif choice == 5:\n",
    "            print(\"Thank you for using srini's bank\")\n",
    "            break\n",
    "    except ValueError:\n",
    "        print(\"Invalid choice. Please try again.\")\n"
   ]
  },
  {
   "cell_type": "code",
   "execution_count": null,
   "id": "c7aa3cb5-d114-4195-8a9f-a257fd7985d5",
   "metadata": {},
   "outputs": [
    {
     "name": "stdout",
     "output_type": "stream",
     "text": [
      "\t***WELCOME TO SRINI'S BANK***\t\n",
      "\n",
      "Menu:\n",
      "1. Create Account\n",
      "2. Deposit\n",
      "3. Withdraw\n",
      "4. Display Customers\n",
      "5. Exit\n"
     ]
    },
    {
     "name": "stdin",
     "output_type": "stream",
     "text": [
      "Enter your choice:  1\n"
     ]
    },
    {
     "name": "stdout",
     "output_type": "stream",
     "text": [
      "Wow! Welcome! Before we open an account for you, we need some information about you.\n"
     ]
    },
    {
     "name": "stdin",
     "output_type": "stream",
     "text": [
      "Enter your First Name:  ss\n",
      "Enter your Age:  22\n",
      "Enter your Qualification:  ve\n"
     ]
    },
    {
     "name": "stdout",
     "output_type": "stream",
     "text": [
      "Please provide your Address details:\n"
     ]
    },
    {
     "name": "stdin",
     "output_type": "stream",
     "text": [
      "Door Number:  dz\n",
      "Street:  2vds\n",
      "City:  sds\n",
      "State:  fsdf\n",
      "Country:  fsf\n",
      "Pincode:  1212\n",
      "Email:  dsf\n"
     ]
    },
    {
     "name": "stdout",
     "output_type": "stream",
     "text": [
      "Invalid email format.\n"
     ]
    },
    {
     "name": "stdin",
     "output_type": "stream",
     "text": [
      "Email:  dfaa@ddf.vfev\n",
      "Mobile Number:  1234567890\n"
     ]
    },
    {
     "name": "stdout",
     "output_type": "stream",
     "text": [
      "\n",
      "Account Number: 179020\n",
      "\n",
      "Select Account Type:\n",
      "1. Savings\n",
      "2. Current\n"
     ]
    },
    {
     "name": "stdin",
     "output_type": "stream",
     "text": [
      "Enter choice:  1\n"
     ]
    },
    {
     "name": "stdout",
     "output_type": "stream",
     "text": [
      "Account created successfully.\n",
      "\t***WELCOME TO SRINI'S BANK***\t\n",
      "\n",
      "Menu:\n",
      "1. Create Account\n",
      "2. Deposit\n",
      "3. Withdraw\n",
      "4. Display Customers\n",
      "5. Exit\n"
     ]
    },
    {
     "name": "stdin",
     "output_type": "stream",
     "text": [
      "Enter your choice:  4\n"
     ]
    },
    {
     "name": "stdout",
     "output_type": "stream",
     "text": [
      "Customer details:\n",
      "FirstName: ss,\n",
      "Age: 22,\n",
      "Qualification: ve\n",
      "\t***WELCOME TO SRINI'S BANK***\t\n",
      "\n",
      "Menu:\n",
      "1. Create Account\n",
      "2. Deposit\n",
      "3. Withdraw\n",
      "4. Display Customers\n",
      "5. Exit\n"
     ]
    }
   ],
   "source": [
    "import threading\n",
    "import random\n",
    "import re\n",
    "\n",
    "# Define Account class\n",
    "class Account:\n",
    "    def __init__(self, account_number, balance=500):\n",
    "        self.account_number = account_number\n",
    "        self.balance = balance\n",
    "        self.lock = threading.Lock()  # Adding a lock to ensure thread safety\n",
    "\n",
    "    def deposit(self, amount):\n",
    "        if amount > 0:\n",
    "            with self.lock:\n",
    "                self.balance += amount\n",
    "                print(f\"Deposit of ${amount} successful. Current balance: ${self.balance}\")\n",
    "        else:\n",
    "            print(\"Invalid deposit amount.\")\n",
    "\n",
    "    def withdraw(self, amount):\n",
    "        if 0 < amount < self.balance:\n",
    "            with self.lock:\n",
    "                self.balance -= amount\n",
    "                print(f\"Withdrawal of ${amount} successful. Current balance: ${self.balance}\")\n",
    "        else:\n",
    "            print(\"Insufficient amount\")\n",
    "\n",
    "    def __str__(self):\n",
    "        return f\"Account Number: {self.account_number}, Balance: ${self.balance}\"\n",
    "\n",
    "# Define Address class\n",
    "class Address:\n",
    "    def __init__(self, door_no, street, city, state, country, pincode, email, mobile):\n",
    "        self.door_no = door_no\n",
    "        self.street = street\n",
    "        self.city = city\n",
    "        self.state = state\n",
    "        self.country = country\n",
    "        self.pincode = pincode\n",
    "        self.email = email\n",
    "        self.mobile = mobile\n",
    "\n",
    "    def __str__(self):\n",
    "        return f\"Address: {self.door_no}, {self.street}, {self.city}, {self.state}, {self.country}, {self.pincode}, {self.email}, {self.mobile}\"\n",
    "\n",
    "# Define Customer class\n",
    "class Customer:\n",
    "    def __init__(self, firstname, age, qualification, address, account):\n",
    "        self.firstname = firstname\n",
    "        self.age = age\n",
    "        self.qualification = qualification\n",
    "        self.address = address\n",
    "        self.account = account\n",
    "\n",
    "    def __str__(self):\n",
    "        return f\"Customer details:\\nFirstName: {self.firstname},\\nAge: {self.age},\\nQualification: {self.qualification}\"\n",
    "\n",
    "# Define Bank class\n",
    "class Bank:\n",
    "    def __init__(self):\n",
    "        self.customers = []\n",
    "        self.lock = threading.Lock()  # Adding a lock to ensure thread safety\n",
    "\n",
    "    # Method to create a new account\n",
    "    def create_account(self):\n",
    "        print(\"Wow! Welcome! Before we open an account for you, we need some information about you.\")\n",
    "        first_name = input(\"Enter your First Name: \")\n",
    "        age = int(input(\"Enter your Age: \"))\n",
    "        qualification = input(\"Enter your Qualification: \")\n",
    "        print(\"Please provide your Address details:\")\n",
    "        door_no = input(\"Door Number: \")\n",
    "        street = input(\"Street: \")\n",
    "        city = input(\"City: \")\n",
    "        state = input(\"State: \")\n",
    "        country = input(\"Country: \")\n",
    "        pincode = int(input(\"Pincode: \"))\n",
    "        email = input(\"Email: \")\n",
    "        while not re.match(r\"[^@]+@[^@]+\\.[^@]+\", email):\n",
    "            print(\"Invalid email format.\")\n",
    "            email = input(\"Email: \")\n",
    "        mobile = input(\"Mobile Number: \")\n",
    "        while not mobile.isdigit() or len(mobile) != 10:\n",
    "            print(\"Invalid mobile number.\")\n",
    "            mobile = input(\"Mobile Number: \")\n",
    "        mobile = int(mobile)\n",
    "        address = Address(door_no, street, city, state, country, pincode, email, mobile)\n",
    "        account_number = random.randint(100000, 999999)\n",
    "        print(\"\\nAccount Number:\", account_number)\n",
    "        print(\"\\nSelect Account Type:\")\n",
    "        print(\"1. Savings\")\n",
    "        print(\"2. Current\")\n",
    "        try:\n",
    "            account_type = int(input(\"Enter choice: \"))\n",
    "            if account_type == 1:\n",
    "                account = Account(account_number)\n",
    "            elif account_type == 2:\n",
    "                account = Account(account_number, balance=500)\n",
    "            else:\n",
    "                print(\"Invalid choice. Account creation failed.\")\n",
    "                return\n",
    "        except ValueError:\n",
    "            print(\"Enter the choice correctly for account type\")\n",
    "\n",
    "        customer = Customer(first_name, age, qualification, address, account)\n",
    "        with self.lock:\n",
    "            self.customers.append(customer)\n",
    "        print(\"Account created successfully.\")\n",
    "\n",
    "    # Method to deposit money into an account\n",
    "    def deposit(self, account_number, amount):\n",
    "        for customer in self.customers:\n",
    "            if customer.account.account_number == account_number:\n",
    "                try:\n",
    "                    amount = float(amount)\n",
    "                    customer.account.deposit(amount)\n",
    "                    return\n",
    "                except ValueError:\n",
    "                    print(\"Invalid amount. Please enter a valid numeric amount.\")\n",
    "                    return\n",
    "        print(\"Account not found.\")\n",
    "\n",
    "    # Method to withdraw money from an account\n",
    "    def withdraw(self, account_number, amount):\n",
    "        for customer in self.customers:\n",
    "            if customer.account.account_number == account_number:\n",
    "                try:\n",
    "                    amount = float(amount)\n",
    "                    customer.account.withdraw(amount)\n",
    "                    return\n",
    "                except ValueError:\n",
    "                    print(\"Invalid amount. Please enter a valid numeric amount.\")\n",
    "                    return\n",
    "        print(\"Account not found.\")\n",
    "\n",
    "    # Method to display all customers and their details\n",
    "    def display_customers(self):\n",
    "        if not self.customers:\n",
    "            print(\"No customer details to display.\")\n",
    "        else:\n",
    "            for customer in self.customers:\n",
    "                print(customer)\n",
    "\n",
    "# Create instance of Bank class\n",
    "bank = Bank()\n",
    "\n",
    "# Function to run the main menu\n",
    "def run_menu():\n",
    "    while True:\n",
    "        print(\"\\t***WELCOME TO SRINI'S BANK***\\t\")\n",
    "        print(\"\\nMenu:\")\n",
    "        print(\"1. Create Account\")\n",
    "        print(\"2. Deposit\")\n",
    "        print(\"3. Withdraw\")\n",
    "        print(\"4. Display Customers\")\n",
    "        print(\"5. Exit\")\n",
    "        try:\n",
    "            choice = int(input(\"Enter your choice: \"))\n",
    "            if choice == 1:\n",
    "                bank.create_account()\n",
    "            elif choice == 2:\n",
    "                account_number = int(input(\"Enter account number: \"))\n",
    "                amount = float(input(\"Enter deposit amount: \"))\n",
    "                bank.deposit(account_number, amount)\n",
    "            elif choice == 3:\n",
    "                account_number = int(input(\"Enter account number: \"))\n",
    "                amount = float(input(\"Enter withdrawal amount: \"))\n",
    "                bank.withdraw(account_number, amount)\n",
    "            elif choice == 4:\n",
    "                bank.display_customers()\n",
    "            elif choice == 5:\n",
    "                print(\"Thank you for using srini's bank\")\n",
    "                break\n",
    "        except ValueError:\n",
    "            print(\"Invalid choice. Please try again.\")\n",
    "\n",
    "# Create threads to run the main menu concurrently\n",
    "menu_thread = threading.Thread(target=run_menu)\n",
    "menu_thread.start()\n",
    "menu_thread.join()\n"
   ]
  },
  {
   "cell_type": "code",
   "execution_count": null,
   "id": "b39a7109-8728-4e9d-b7ac-60ffc74855a3",
   "metadata": {},
   "outputs": [],
   "source": []
  }
 ],
 "metadata": {
  "kernelspec": {
   "display_name": "Python 3 (ipykernel)",
   "language": "python",
   "name": "python3"
  },
  "language_info": {
   "codemirror_mode": {
    "name": "ipython",
    "version": 3
   },
   "file_extension": ".py",
   "mimetype": "text/x-python",
   "name": "python",
   "nbconvert_exporter": "python",
   "pygments_lexer": "ipython3",
   "version": "3.11.7"
  }
 },
 "nbformat": 4,
 "nbformat_minor": 5
}
